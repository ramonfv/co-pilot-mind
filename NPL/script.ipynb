{
 "cells": [
  {
   "cell_type": "code",
   "execution_count": 1,
   "metadata": {},
   "outputs": [],
   "source": [
    "import os\n",
    "\n",
    "\n",
    "os.chdir('/Users/carolinarutilidelima/Documents/GitHub/co-pilot-mind/data/transcriptions/temp/multi')"
   ]
  },
  {
   "cell_type": "code",
   "execution_count": 2,
   "metadata": {},
   "outputs": [],
   "source": [
    "import json\n",
    "import re\n",
    "from collections import defaultdict\n",
    "import spacy\n",
    "from spacy.matcher import Matcher\n"
   ]
  },
  {
   "cell_type": "code",
   "execution_count": 3,
   "metadata": {},
   "outputs": [],
   "source": [
    "# Load a multilingual spaCy model\n",
    "nlp = spacy.load(\"xx_ent_wiki_sm\")\n"
   ]
  },
  {
   "cell_type": "code",
   "execution_count": 5,
   "metadata": {},
   "outputs": [],
   "source": [
    "# Load the transcript JSON (adjust the filename as needed)\n",
    "with open(\"sod-gru_mixed_transcription_with_turbo_model_multi.json\", \"r\", encoding=\"utf-8\") as file:\n",
    "    data = json.load(file)\n"
   ]
  },
  {
   "cell_type": "code",
   "execution_count": 6,
   "metadata": {},
   "outputs": [],
   "source": [
    "# Combine the text from all segments\n",
    "full_text = \" \".join(segment[\"text\"] for segment in data.get(\"segments\", []))\n",
    "doc = nlp(full_text)\n"
   ]
  },
  {
   "cell_type": "code",
   "execution_count": 7,
   "metadata": {},
   "outputs": [],
   "source": [
    "# Initialize the Matcher\n",
    "matcher = Matcher(nlp.vocab)"
   ]
  },
  {
   "cell_type": "code",
   "execution_count": 8,
   "metadata": {},
   "outputs": [],
   "source": [
    "# --- Define Patterns ---\n",
    "\n",
    "# ORIGIN patterns\n",
    "# Portuguese: \"a aeronave de [Origin]\"\n",
    "pattern_origin_pt = [\n",
    "    {\"LOWER\": \"aeronave\"},\n",
    "    {\"LOWER\": \"de\"},\n",
    "    {\"IS_TITLE\": True, \"OP\": \"+\"}\n",
    "]\n",
    "# English alternative (if transcript uses 'from' or 'origin')\n",
    "pattern_origin_en = [\n",
    "    {\"LOWER\": {\"IN\": [\"from\", \"origin\"]}},\n",
    "    {\"IS_TITLE\": True, \"OP\": \"+\"}\n",
    "]\n",
    "matcher.add(\"ORIGIN\", [pattern_origin_pt, pattern_origin_en])\n",
    "\n",
    "# DESTINATION patterns\n",
    "# Portuguese: \"para [Destination]\"\n",
    "pattern_destination_pt = [\n",
    "    {\"LOWER\": \"para\"},\n",
    "    {\"IS_TITLE\": True, \"OP\": \"+\"}\n",
    "]\n",
    "# English alternative: \"to [Destination]\" or \"destination [Destination]\"\n",
    "pattern_destination_en = [\n",
    "    {\"LOWER\": {\"IN\": [\"to\", \"destination\"]}},\n",
    "    {\"IS_TITLE\": True, \"OP\": \"+\"}\n",
    "]\n",
    "matcher.add(\"DESTINATION\", [pattern_destination_pt, pattern_destination_en])"
   ]
  },
  {
   "cell_type": "code",
   "execution_count": 11,
   "metadata": {},
   "outputs": [],
   "source": [
    "# AIRSPEED patterns (e.g., \"Airspeed VF de 111\")\n",
    "pattern_airspeed_en = [\n",
    "    {\"LOWER\": \"airspeed\"},\n",
    "    {\"LOWER\": \"vf\"},\n",
    "    {\"LOWER\": {\"IN\": [\"of\"]}, \"OP\": \"?\"},\n",
    "    {\"LIKE_NUM\": True}\n",
    "]\n",
    "pattern_airspeed_pt = [\n",
    "    {\"LOWER\": \"airspeed\"},\n",
    "    {\"LOWER\": \"vf\"},\n",
    "    {\"LOWER\": {\"IN\": [\"de\"]}, \"OP\": \"?\"},\n",
    "    {\"LIKE_NUM\": True}\n",
    "]\n",
    "matcher.add(\"AIRSPEED\", [pattern_airspeed_en, pattern_airspeed_pt])\n",
    "\n",
    "# VERTICAL SPEED patterns (e.g., \"vertical speed 300\" or \"velocidade vertical 300\")\n",
    "pattern_vertical_speed_en = [\n",
    "    {\"LOWER\": \"vertical\"},\n",
    "    {\"LOWER\": {\"IN\": [\"speed\"]}, \"OP\": \"?\"},\n",
    "    {\"LIKE_NUM\": True}\n",
    "]\n",
    "pattern_vertical_speed_pt = [\n",
    "    {\"LOWER\": \"velocidade\"},\n",
    "    {\"LOWER\": \"vertical\", \"OP\": \"?\"},\n",
    "    {\"LIKE_NUM\": True}\n",
    "]\n",
    "matcher.add(\"VERTICAL_SPEED\", [pattern_vertical_speed_en, pattern_vertical_speed_pt])\n",
    "\n",
    "# CRUISE SPEED patterns (e.g., \"cruise speed 450\" or \"velocidade de cruzeiro 450\")\n",
    "pattern_cruise_speed_en = [\n",
    "    {\"LOWER\": \"cruise\"},\n",
    "    {\"LOWER\": \"speed\"},\n",
    "    {\"LOWER\": {\"IN\": [\"of\"]}, \"OP\": \"?\"},\n",
    "    {\"LIKE_NUM\": True}\n",
    "]\n",
    "pattern_cruise_speed_pt = [\n",
    "    {\"LOWER\": \"velocidade\"},\n",
    "    {\"LOWER\": \"de\"},\n",
    "    {\"LOWER\": \"cruzeiro\"},\n",
    "    {\"LOWER\": {\"IN\": [\"de\"]}, \"OP\": \"?\"},\n",
    "    {\"LIKE_NUM\": True}\n",
    "]\n",
    "matcher.add(\"CRUISE_SPEED\", [pattern_cruise_speed_en, pattern_cruise_speed_pt])\n",
    "\n",
    "\n",
    "# ALTITUDE patterns (e.g., \"altitude 8000 pés\" or \"altitude 8000 feet\")\n",
    "pattern_altitude_en = [\n",
    "    {\"LOWER\": \"altitude\"},\n",
    "    {\"LIKE_NUM\": True},\n",
    "    {\"LOWER\": {\"IN\": [\"feet\", \"ft\"]}, \"OP\": \"?\"}\n",
    "]\n",
    "pattern_altitude_pt = [\n",
    "    {\"LOWER\": {\"IN\": [\"altitude\", \"altura\"]}},\n",
    "    {\"LOWER\": {\"IN\": [\"de\"]}, \"OP\": \"?\"},\n",
    "    {\"LIKE_NUM\": True},\n",
    "    {\"LOWER\": {\"IN\": [\"pés\", \"ft\"]}, \"OP\": \"?\"}\n",
    "]\n",
    "matcher.add(\"ALTITUDE\", [pattern_altitude_en, pattern_altitude_pt])\n",
    "\n",
    "# Run the matcher on the document\n",
    "matches = matcher(doc)\n"
   ]
  },
  {
   "cell_type": "code",
   "execution_count": 13,
   "metadata": {},
   "outputs": [
    {
     "name": "stdout",
     "output_type": "stream",
     "text": [
      "Extracted Flight Information:\n",
      "Origin: Sorocaba\n",
      "Destination: Guarulhos\n",
      "Airspeed: None\n",
      "Vertical_speed: None\n",
      "Cruise_speed: None\n",
      "Altitude: None\n"
     ]
    }
   ],
   "source": [
    "# Prepare a dictionary to hold the extracted data\n",
    "extracted_info = {\n",
    "    \"origin\": None,\n",
    "    \"destination\": None,\n",
    "    \"airspeed\": None,\n",
    "    \"vertical_speed\": None,\n",
    "    \"cruise_speed\": None,\n",
    "    \"altitude\": None,\n",
    "}\n",
    "\n",
    "\n",
    "# Process the matches\n",
    "for match_id, start, end in matches:\n",
    "    span = doc[start:end]\n",
    "    label = nlp.vocab.strings[match_id]\n",
    "    \n",
    "    if label in [\"AIRSPEED\", \"VERTICAL_SPEED\", \"CRUISE_SPEED\", \"ALTITUDE\"]:\n",
    "        # For numeric values, pick the first number found in the span\n",
    "        for token in span:\n",
    "            if token.like_num:\n",
    "                extracted_info[label.lower()] = token.text\n",
    "                break\n",
    "    elif label in [\"ORIGIN\", \"DESTINATION\"]:\n",
    "        # For location-based patterns, take the last token (assumed to be the location)\n",
    "        extracted_info[label.lower()] = span[-1].text\n",
    "\n",
    "# Print the extracted flight information\n",
    "print(\"Extracted Flight Information:\")\n",
    "for key, value in extracted_info.items():\n",
    "    print(f\"{key.capitalize()}: {value}\")"
   ]
  },
  {
   "cell_type": "code",
   "execution_count": null,
   "metadata": {},
   "outputs": [],
   "source": []
  }
 ],
 "metadata": {
  "kernelspec": {
   "display_name": ".venv",
   "language": "python",
   "name": "python3"
  },
  "language_info": {
   "codemirror_mode": {
    "name": "ipython",
    "version": 3
   },
   "file_extension": ".py",
   "mimetype": "text/x-python",
   "name": "python",
   "nbconvert_exporter": "python",
   "pygments_lexer": "ipython3",
   "version": "3.11.0"
  }
 },
 "nbformat": 4,
 "nbformat_minor": 2
}
